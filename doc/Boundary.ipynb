{
 "cells": [
  {
   "cell_type": "code",
   "execution_count": 1,
   "id": "d49edbe1-fe92-4a67-82e9-78a877139d5d",
   "metadata": {},
   "outputs": [],
   "source": [
    "import numpy as np\n",
    "import sympy as sym"
   ]
  },
  {
   "cell_type": "markdown",
   "id": "7f598afc-282c-4bb5-8d47-80c77fcc1178",
   "metadata": {},
   "source": [
    "**Boundary collision method**\n",
    "\n",
    "For a given particle position $\\vec{P}$ and an old particle positions $\\vec{P}_{\\mathrm{old}}$ and for the plane there are 3 points: $\\vec{A}$, $\\vec{B}$ and $\\vec{C}$.\n",
    "The equation for the line representing the particle movement can be writen as\n",
    "\n",
    "$$\n",
    "\\vec{l} = \\vec{P}_{\\mathrm{old}} + t \\cdot \\vec{D}\n",
    "$$\n",
    "\n",
    "where $\\vec{D} = \\vec{P}_{\\mathrm{old}} - \\vec{P}$ and the equation representing the plane can be written as\n",
    "\n",
    "$$\n",
    "\\vec{p} = \\vec{A} + k \\cdot \\vec{Q}_1 + s \\cdot \\vec{Q}_2\n",
    "$$\n",
    "\n",
    "with $\\vec{Q}_1 = \\vec{B} - \\vec{A}$ and $\\vec{Q}_2 = \\vec{C} - \\vec{A}$.\n",
    "For the line to intersect the plane both need to be equal $\\vec{l} = \\vec{p}$ which leads to the equation\n",
    "\n",
    "$$\n",
    "k \\cdot \\vec{Q}_1 + s \\cdot \\vec{Q}_2 - t \\cdot \\vec{D} = \\vec{R}\n",
    "$$\n",
    "\n",
    "where $\\vec{R} = \\vec{P}_{\\mathrm{old}} - \\vec{A}$.\n",
    "The equation can be written in matrix form as\n",
    "\n",
    "$$\n",
    "\\begin{bmatrix}\n",
    "\\vec{Q}_{1, x} & \\vec{Q}_{2, x} & -\\vec{D}_x \\\\\n",
    "\\vec{Q}_{1, y} & \\vec{Q}_{2, y} & -\\vec{D}_y \\\\ \n",
    "\\vec{Q}_{1, z} & \\vec{Q}_{2, z} & -\\vec{D}_z\n",
    "\\end{bmatrix}\n",
    "\\cdot\n",
    "\\begin{pmatrix}\n",
    "k \\\\\n",
    "s \\\\\n",
    "t\n",
    "\\end{pmatrix}\n",
    "=\n",
    "\\begin{pmatrix}\n",
    "\\vec{R}_x\\\\\n",
    "\\vec{R}_y \\\\\n",
    "\\vec{R}_z\n",
    "\\end{pmatrix}.\n",
    "$$"
   ]
  },
  {
   "cell_type": "code",
   "execution_count": 13,
   "id": "4abb0e41-5e15-4326-b663-df0b6b5cfe0b",
   "metadata": {
    "tags": []
   },
   "outputs": [
    {
     "name": "stdout",
     "output_type": "stream",
     "text": [
      "[0. 0. 0.] [0. 0. 0.]\n"
     ]
    }
   ],
   "source": [
    "P = np.array([1.0, 1.0, 0.0])\n",
    "Pold = np.array([-1.0, -1.0, 0.0])\n",
    "\n",
    "A = np.array([0.0, -1.0, -1.0])\n",
    "B = np.array([0.0, -1.0, 1.0])\n",
    "C = np.array([0.0, 1.0, 1.0])\n",
    "\n",
    "D = Pold - P\n",
    "Q1 = B - A\n",
    "Q2 = C - A\n",
    "R = Pold - A\n",
    "M = np.array([[Q1[i], Q2[i], -D[i]] for i in range(3)])\n",
    "\n",
    "k, s, t = np.linalg.solve(M, R)\n",
    "\n",
    "p = A + k*Q1 + s*Q2\n",
    "l = Pold + t *D\n",
    "\n",
    "print(p, l)"
   ]
  },
  {
   "cell_type": "code",
   "execution_count": null,
   "id": "d204319a-eb91-47f0-8c5d-8cd05e2f3c2c",
   "metadata": {},
   "outputs": [],
   "source": []
  }
 ],
 "metadata": {
  "kernelspec": {
   "display_name": "Python 3 (ipykernel)",
   "language": "python",
   "name": "python3"
  },
  "language_info": {
   "codemirror_mode": {
    "name": "ipython",
    "version": 3
   },
   "file_extension": ".py",
   "mimetype": "text/x-python",
   "name": "python",
   "nbconvert_exporter": "python",
   "pygments_lexer": "ipython3",
   "version": "3.8.10"
  }
 },
 "nbformat": 4,
 "nbformat_minor": 5
}
