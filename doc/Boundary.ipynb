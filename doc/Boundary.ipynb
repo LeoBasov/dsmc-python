{
 "cells": [
  {
   "cell_type": "code",
   "execution_count": 1,
   "id": "d49edbe1-fe92-4a67-82e9-78a877139d5d",
   "metadata": {},
   "outputs": [],
   "source": [
    "import numpy as np\n",
    "import sympy as sym"
   ]
  },
  {
   "cell_type": "markdown",
   "id": "7f598afc-282c-4bb5-8d47-80c77fcc1178",
   "metadata": {},
   "source": [
    "**Boundary collision method**\n",
    "\n",
    "Given a plane $\\Pi$ and and a line $L$ as\n",
    "\n",
    "$$\n",
    "\\Pi \\rightarrow (p - p_0) \\cdot \\vec{n}_p = 0 \\\\\n",
    "L \\rightarrow l = l_0 + t \\cdot \\vec{n}_l\n",
    "$$\n",
    "\n",
    "where $\\vec{n}_1$ is the normal vector of a plane given as\n",
    "\n",
    "$$\n",
    "\\vec{n}_p = \\frac{(p_1 - p_0) \\times (p_2 - p_0)}{|| (p_1 - p_0) \\times (p_2 - p_0) ||}\n",
    "$$\n",
    "\n",
    "is a unit vector in the direction of the line as\n",
    "\n",
    "$$\n",
    "\\vec{n}_l = \\frac{l_1 - l_0}{|| l_1 - l_0 ||}.\n",
    "$$\n",
    "\n",
    "The positons of the intersection point found by setting the point $p$ in the equation for the plane as being a point in the equation of the line:\n",
    "\n",
    "$$\n",
    "(l - p_0) \\cdot \\vec{n}_p = 0 = (l_0 + t \\cdot \\vec{n}_l - p_0) \\cdot \\vec{n}_p \\implies t = - \\frac{(l_0 - p_0) \\cdot \\vec{n}_p}{\\vec{n}_p \\cdot \\vec{n}_l}\n",
    "$$\n",
    "\n",
    "inserting the line equation the intersection point can be found as\n",
    "\n",
    "$$\n",
    "l^* = l_0 - \\frac{(l_0 - p_0) \\cdot \\vec{n}_p}{\\vec{n}_p \\cdot \\vec{n}_l} \\cdot \\vec{n}_l.\n",
    "$$"
   ]
  },
  {
   "cell_type": "code",
   "execution_count": 2,
   "id": "4abb0e41-5e15-4326-b663-df0b6b5cfe0b",
   "metadata": {
    "tags": []
   },
   "outputs": [
    {
     "name": "stdout",
     "output_type": "stream",
     "text": [
      "[0. 0. 0.]\n"
     ]
    }
   ],
   "source": [
    "l1 = np.array([1.0, 1.0, 0.0])\n",
    "l0 = np.array([-1.0, -1.0, 0.0])\n",
    "\n",
    "p0 = np.array([0.0, -1.0, -1.0])\n",
    "p1 = np.array([0.0, -1.0, 1.0])\n",
    "p2 = np.array([0.0, 1.0, 1.0])\n",
    "\n",
    "nl = l1 - l0\n",
    "nl = nl / np.linalg.norm(nl)\n",
    "\n",
    "n_p = np.cross((p1 - p0), (p2 - p0))\n",
    "n_p = n_p / np.linalg.norm(n_p)\n",
    "\n",
    "ls = l0 - ((l0 - p0).dot(n_p) / n_p.dot(nl))*nl\n",
    "\n",
    "print(ls)"
   ]
  },
  {
   "cell_type": "markdown",
   "id": "d43f6e71-7324-4b21-9c0d-371fb76d01f6",
   "metadata": {},
   "source": [
    "**Reflections**\n",
    "\n",
    "The reflected line can be found as\n",
    "\n",
    "$$\n",
    "L_R \\rightarrow l_R = l^* + \\lambda \\cdot \\vec{n}_R\n",
    "$$\n",
    "\n",
    "with \n",
    "\n",
    "$$\n",
    "\\vec{n}_R = \\vec{n}_l - 2 \\frac{\\vec{n}_p \\cdot \\vec{n}_l}{|| \\vec{n}_p ||^2} \\cdot \\vec{n}_p.\n",
    "$$"
   ]
  },
  {
   "cell_type": "code",
   "execution_count": null,
   "id": "91de06b7-7511-471d-9b64-f9c2a784d682",
   "metadata": {},
   "outputs": [],
   "source": []
  }
 ],
 "metadata": {
  "kernelspec": {
   "display_name": "Python 3 (ipykernel)",
   "language": "python",
   "name": "python3"
  },
  "language_info": {
   "codemirror_mode": {
    "name": "ipython",
    "version": 3
   },
   "file_extension": ".py",
   "mimetype": "text/x-python",
   "name": "python",
   "nbconvert_exporter": "python",
   "pygments_lexer": "ipython3",
   "version": "3.8.10"
  }
 },
 "nbformat": 4,
 "nbformat_minor": 5
}
