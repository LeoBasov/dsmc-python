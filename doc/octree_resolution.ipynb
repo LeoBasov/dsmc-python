{
 "cells": [
  {
   "cell_type": "code",
   "execution_count": 1,
   "id": "9db716f6-c301-4d2e-b06f-19cd98de2e5f",
   "metadata": {},
   "outputs": [],
   "source": [
    "import math"
   ]
  },
  {
   "cell_type": "markdown",
   "id": "772d42fa-dc37-48e9-a599-392077582e98",
   "metadata": {},
   "source": [
    "The mean free path can be written as\n",
    "$$\n",
    "\\lambda = \\frac{1}{\\sqrt{2} \\cdot n_{c} \\cdot \\sigma_T}\n",
    "$$\n",
    "where $n_c$ is the number density in the cell and $\\sigma_T$ is the total cross section.\n",
    "The number of particles in cell $N_{c}$ can be calculated as (asuming cubic cells)\n",
    "$$\n",
    "N_{c} = \\frac{1}{w} \\cdot L_c^3 \\cdot n_c\n",
    "$$\n",
    "where $L_C$ is the side length of the cell and $w$ being the particle weight.\n",
    "Assuming that the cell side fullfills the criteria\n",
    "$$\n",
    "\\frac{L_c}{\\lambda} \\leq \\frac{1}{2}.\n",
    "$$\n",
    "This leads to the criterium\n",
    "$$\n",
    "N \\leq \\frac{\\sqrt{2}}{32 \\cdot w \\cdot \\sigma^2_T \\cdot n^3_c}\n",
    "$$"
   ]
  },
  {
   "cell_type": "code",
   "execution_count": null,
   "id": "4f03b0f7-64a9-48e5-989c-2e253ce09c1d",
   "metadata": {},
   "outputs": [],
   "source": []
  }
 ],
 "metadata": {
  "kernelspec": {
   "display_name": "Python 3 (ipykernel)",
   "language": "python",
   "name": "python3"
  },
  "language_info": {
   "codemirror_mode": {
    "name": "ipython",
    "version": 3
   },
   "file_extension": ".py",
   "mimetype": "text/x-python",
   "name": "python",
   "nbconvert_exporter": "python",
   "pygments_lexer": "ipython3",
   "version": "3.9.12"
  }
 },
 "nbformat": 4,
 "nbformat_minor": 5
}
